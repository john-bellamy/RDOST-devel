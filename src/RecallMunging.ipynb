{
 "cells": [
  {
   "cell_type": "code",
   "execution_count": 1,
   "metadata": {},
   "outputs": [],
   "source": [
    "import pandas as pd\n",
    "from pandas import DataFrame,Series"
   ]
  },
  {
   "cell_type": "code",
   "execution_count": 2,
   "metadata": {},
   "outputs": [
    {
     "name": "stderr",
     "output_type": "stream",
     "text": [
      "C:\\Users\\johnb\\Anaconda3\\lib\\site-packages\\ipykernel_launcher.py:2: FutureWarning: from_csv is deprecated. Please use read_csv(...) instead. Note that some of the default arguments are different, so please refer to the documentation for from_csv when changing your function calls\n",
      "  \n",
      "C:\\Users\\johnb\\Anaconda3\\lib\\site-packages\\ipykernel_launcher.py:3: FutureWarning: from_csv is deprecated. Please use read_csv(...) instead. Note that some of the default arguments are different, so please refer to the documentation for from_csv when changing your function calls\n",
      "  This is separate from the ipykernel package so we can avoid doing imports until\n",
      "C:\\Users\\johnb\\Anaconda3\\lib\\site-packages\\ipykernel_launcher.py:4: FutureWarning: from_csv is deprecated. Please use read_csv(...) instead. Note that some of the default arguments are different, so please refer to the documentation for from_csv when changing your function calls\n",
      "  after removing the cwd from sys.path.\n"
     ]
    }
   ],
   "source": [
    "#Load data for each of our tagets\n",
    "bell1 = DataFrame.from_csv(\"csv_files\\\\belle1.csv\", encoding=\"utf-8\")\n",
    "bell2 = DataFrame.from_csv(\"csv_files\\\\belle2.csv\", encoding=\"utf-8\")\n",
    "bell3 = DataFrame.from_csv(\"csv_files\\\\belle3.csv\", encoding=\"utf-8\")"
   ]
  },
  {
   "cell_type": "code",
   "execution_count": 3,
   "metadata": {},
   "outputs": [
    {
     "data": {
      "text/html": [
       "<div>\n",
       "<style scoped>\n",
       "    .dataframe tbody tr th:only-of-type {\n",
       "        vertical-align: middle;\n",
       "    }\n",
       "\n",
       "    .dataframe tbody tr th {\n",
       "        vertical-align: top;\n",
       "    }\n",
       "\n",
       "    .dataframe thead th {\n",
       "        text-align: right;\n",
       "    }\n",
       "</style>\n",
       "<table border=\"1\" class=\"dataframe\">\n",
       "  <thead>\n",
       "    <tr style=\"text-align: right;\">\n",
       "      <th></th>\n",
       "    </tr>\n",
       "    <tr>\n",
       "      <th>Tweet</th>\n",
       "    </tr>\n",
       "  </thead>\n",
       "  <tbody>\n",
       "    <tr>\n",
       "      <th>About to get on the treadmill so I won't feel bad about the Blue Bell banana pudding ice cream I'll eat later.</th>\n",
       "    </tr>\n",
       "    <tr>\n",
       "      <th>Heard @JusticeWillett robbed the House of a Blue Bell ice cream party.... this is a violation of checks and balances! #txlege</th>\n",
       "    </tr>\n",
       "    <tr>\n",
       "      <th>I can sure go for a big bowl of some homemade blue bell vanilla ice cream ! #MaximumKeefYo</th>\n",
       "    </tr>\n",
       "    <tr>\n",
       "      <th>? @__007Coop__ : Some cookies n' cream ice cream would be so clutch right about now.? blue bell</th>\n",
       "    </tr>\n",
       "    <tr>\n",
       "      <th>Got me a big bag of wings, and two containers of blue bell ice cream waiting for me for dinner</th>\n",
       "    </tr>\n",
       "  </tbody>\n",
       "</table>\n",
       "</div>"
      ],
      "text/plain": [
       "Empty DataFrame\n",
       "Columns: []\n",
       "Index: [About to get on the treadmill so I won't feel bad about the Blue Bell banana pudding ice cream I'll eat later., Heard @JusticeWillett robbed the House of a Blue Bell ice cream party.... this is a violation of checks and balances! #txlege, I can sure go for a big bowl of some homemade blue bell vanilla ice cream ! #MaximumKeefYo, ? @__007Coop__ : Some cookies n' cream ice cream would be so clutch right about now.? blue bell, Got me a big bag of wings, and two containers of blue bell ice cream waiting for me for dinner]"
      ]
     },
     "execution_count": 3,
     "metadata": {},
     "output_type": "execute_result"
    }
   ],
   "source": [
    "bell1.head()"
   ]
  },
  {
   "cell_type": "code",
   "execution_count": 4,
   "metadata": {},
   "outputs": [
    {
     "name": "stderr",
     "output_type": "stream",
     "text": [
      "C:\\Users\\johnb\\Anaconda3\\lib\\site-packages\\ipykernel_launcher.py:1: FutureWarning: from_csv is deprecated. Please use read_csv(...) instead. Note that some of the default arguments are different, so please refer to the documentation for from_csv when changing your function calls\n",
      "  \"\"\"Entry point for launching an IPython kernel.\n",
      "C:\\Users\\johnb\\Anaconda3\\lib\\site-packages\\ipykernel_launcher.py:2: FutureWarning: from_csv is deprecated. Please use read_csv(...) instead. Note that some of the default arguments are different, so please refer to the documentation for from_csv when changing your function calls\n",
      "  \n",
      "C:\\Users\\johnb\\Anaconda3\\lib\\site-packages\\ipykernel_launcher.py:3: FutureWarning: from_csv is deprecated. Please use read_csv(...) instead. Note that some of the default arguments are different, so please refer to the documentation for from_csv when changing your function calls\n",
      "  This is separate from the ipykernel package so we can avoid doing imports until\n"
     ]
    }
   ],
   "source": [
    "atkins1 = DataFrame.from_csv(\"csv_files\\\\atkins1.csv\", encoding=\"utf-8\")\n",
    "atkins2 = DataFrame.from_csv(\"csv_files\\\\atkins2.csv\", encoding=\"utf-8\")\n",
    "atkins3 = DataFrame.from_csv(\"csv_files\\\\atkins3.csv\", encoding=\"utf-8\")"
   ]
  },
  {
   "cell_type": "code",
   "execution_count": 5,
   "metadata": {},
   "outputs": [
    {
     "data": {
      "text/html": [
       "<div>\n",
       "<style scoped>\n",
       "    .dataframe tbody tr th:only-of-type {\n",
       "        vertical-align: middle;\n",
       "    }\n",
       "\n",
       "    .dataframe tbody tr th {\n",
       "        vertical-align: top;\n",
       "    }\n",
       "\n",
       "    .dataframe thead th {\n",
       "        text-align: right;\n",
       "    }\n",
       "</style>\n",
       "<table border=\"1\" class=\"dataframe\">\n",
       "  <thead>\n",
       "    <tr style=\"text-align: right;\">\n",
       "      <th></th>\n",
       "    </tr>\n",
       "    <tr>\n",
       "      <th>Tweets</th>\n",
       "    </tr>\n",
       "  </thead>\n",
       "  <tbody>\n",
       "    <tr>\n",
       "      <th>Day 1 of Willems Atkins diet and he's already craving fries</th>\n",
       "    </tr>\n",
       "    <tr>\n",
       "      <th>Tengok video transformasi badan Aamir Khan tu, dia #atkinsdiet la tu</th>\n",
       "    </tr>\n",
       "    <tr>\n",
       "      <th>New Post: Atkins Diet : 21 Days To Rapid Fat Loss, Unstoppable Energy And Upgrade Your Life ? Lose Up To a Pound... http:// ow.ly/77Q950707qp</th>\n",
       "    </tr>\n",
       "    <tr>\n",
       "      <th>#atkinsdiet musnah termakan 1/4 nasi kt wong solo</th>\n",
       "    </tr>\n",
       "    <tr>\n",
       "      <th>Sugar craving Atkins diet http:// musclehealthmagazine.net/sugar-craving- atkins-diet?utm_source=ReviveOldPost&amp;utm_medium=social&amp;utm_campaign=ReviveOldPost ?</th>\n",
       "    </tr>\n",
       "  </tbody>\n",
       "</table>\n",
       "</div>"
      ],
      "text/plain": [
       "Empty DataFrame\n",
       "Columns: []\n",
       "Index: [Day 1 of Willems Atkins diet and he's already craving fries, Tengok video transformasi badan Aamir Khan tu, dia #atkinsdiet la tu, New Post: Atkins Diet : 21 Days To Rapid Fat Loss, Unstoppable Energy And Upgrade Your Life ? Lose Up To a Pound... http:// ow.ly/77Q950707qp, #atkinsdiet musnah termakan 1/4 nasi kt wong solo, Sugar craving Atkins diet http:// musclehealthmagazine.net/sugar-craving- atkins-diet?utm_source=ReviveOldPost&utm_medium=social&utm_campaign=ReviveOldPost ?]"
      ]
     },
     "execution_count": 5,
     "metadata": {},
     "output_type": "execute_result"
    }
   ],
   "source": [
    "atkins3.head()"
   ]
  },
  {
   "cell_type": "code",
   "execution_count": 6,
   "metadata": {},
   "outputs": [
    {
     "name": "stderr",
     "output_type": "stream",
     "text": [
      "C:\\Users\\johnb\\Anaconda3\\lib\\site-packages\\ipykernel_launcher.py:1: FutureWarning: from_csv is deprecated. Please use read_csv(...) instead. Note that some of the default arguments are different, so please refer to the documentation for from_csv when changing your function calls\n",
      "  \"\"\"Entry point for launching an IPython kernel.\n",
      "C:\\Users\\johnb\\Anaconda3\\lib\\site-packages\\ipykernel_launcher.py:2: FutureWarning: from_csv is deprecated. Please use read_csv(...) instead. Note that some of the default arguments are different, so please refer to the documentation for from_csv when changing your function calls\n",
      "  \n",
      "C:\\Users\\johnb\\Anaconda3\\lib\\site-packages\\ipykernel_launcher.py:3: FutureWarning: from_csv is deprecated. Please use read_csv(...) instead. Note that some of the default arguments are different, so please refer to the documentation for from_csv when changing your function calls\n",
      "  This is separate from the ipykernel package so we can avoid doing imports until\n"
     ]
    }
   ],
   "source": [
    "samsung1 = DataFrame.from_csv(\"csv_files\\\\samsung1.csv\", encoding=\"utf-8\")\n",
    "samsung2 = DataFrame.from_csv(\"csv_files\\\\samsung2.csv\", encoding=\"utf-8\")\n",
    "samsung3 = DataFrame.from_csv(\"csv_files\\\\samsung3.csv\", encoding=\"utf-8\")"
   ]
  },
  {
   "cell_type": "code",
   "execution_count": 7,
   "metadata": {},
   "outputs": [
    {
     "data": {
      "text/html": [
       "<div>\n",
       "<style scoped>\n",
       "    .dataframe tbody tr th:only-of-type {\n",
       "        vertical-align: middle;\n",
       "    }\n",
       "\n",
       "    .dataframe tbody tr th {\n",
       "        vertical-align: top;\n",
       "    }\n",
       "\n",
       "    .dataframe thead th {\n",
       "        text-align: right;\n",
       "    }\n",
       "</style>\n",
       "<table border=\"1\" class=\"dataframe\">\n",
       "  <thead>\n",
       "    <tr style=\"text-align: right;\">\n",
       "      <th></th>\n",
       "    </tr>\n",
       "    <tr>\n",
       "      <th>Tweets</th>\n",
       "    </tr>\n",
       "  </thead>\n",
       "  <tbody>\n",
       "    <tr>\n",
       "      <th>De venta Samsung J1 Ace $140 Samsung J2 $170 Samsung Galaxy S6 $510 Samsung Galaxy S6 Edge $550 Equipos nuevos con garant?a @MercadoLibreEc</th>\n",
       "    </tr>\n",
       "    <tr>\n",
       "      <th>J'ai d?pann? un iPhone ? mon pote j'lui dis d'me rendre mon iPhone il m'dis\"J'ai plus j'te parle avec un Samsung \"alors qu'on parle iMessage</th>\n",
       "    </tr>\n",
       "    <tr>\n",
       "      <th>@__Bajic @kotlarnica1 @dopadljiv mislim da je samsung neki galaxy</th>\n",
       "    </tr>\n",
       "    <tr>\n",
       "      <th>Samsung ???????????????(????) /2017????iPhone?3???? ?????????????????????????????? - http:// goo.gl/dCIHak</th>\n",
       "    </tr>\n",
       "    <tr>\n",
       "      <th>Baffling problem an samsung printing office other samsung toners retire live an brilliant excellent: RQhFY</th>\n",
       "    </tr>\n",
       "  </tbody>\n",
       "</table>\n",
       "</div>"
      ],
      "text/plain": [
       "Empty DataFrame\n",
       "Columns: []\n",
       "Index: [De venta Samsung J1 Ace $140 Samsung J2 $170 Samsung Galaxy S6 $510 Samsung Galaxy S6 Edge $550 Equipos nuevos con garant?a @MercadoLibreEc, J'ai d?pann? un iPhone ? mon pote j'lui dis d'me rendre mon iPhone il m'dis\"J'ai plus j'te parle avec un Samsung \"alors qu'on parle iMessage, @__Bajic @kotlarnica1 @dopadljiv mislim da je samsung neki galaxy, Samsung ???????????????(????) /2017????iPhone?3???? ?????????????????????????????? - http:// goo.gl/dCIHak, Baffling problem an samsung printing office other samsung toners retire live an brilliant excellent: RQhFY]"
      ]
     },
     "execution_count": 7,
     "metadata": {},
     "output_type": "execute_result"
    }
   ],
   "source": [
    "samsung1.head()"
   ]
  },
  {
   "cell_type": "code",
   "execution_count": 8,
   "metadata": {},
   "outputs": [
    {
     "name": "stderr",
     "output_type": "stream",
     "text": [
      "C:\\Users\\johnb\\Anaconda3\\lib\\site-packages\\ipykernel_launcher.py:1: FutureWarning: from_csv is deprecated. Please use read_csv(...) instead. Note that some of the default arguments are different, so please refer to the documentation for from_csv when changing your function calls\n",
      "  \"\"\"Entry point for launching an IPython kernel.\n",
      "C:\\Users\\johnb\\Anaconda3\\lib\\site-packages\\ipykernel_launcher.py:2: FutureWarning: from_csv is deprecated. Please use read_csv(...) instead. Note that some of the default arguments are different, so please refer to the documentation for from_csv when changing your function calls\n",
      "  \n",
      "C:\\Users\\johnb\\Anaconda3\\lib\\site-packages\\ipykernel_launcher.py:3: FutureWarning: from_csv is deprecated. Please use read_csv(...) instead. Note that some of the default arguments are different, so please refer to the documentation for from_csv when changing your function calls\n",
      "  This is separate from the ipykernel package so we can avoid doing imports until\n"
     ]
    }
   ],
   "source": [
    "toy2 = DataFrame.from_csv(\"csv_files\\\\toy1_durrec.csv\", encoding=\"utf-8\")\n",
    "toy1 = DataFrame.from_csv(\"csv_files\\\\toy2before_rec.csv\", encoding=\"utf-8\")\n",
    "toy3 = DataFrame.from_csv(\"csv_files\\\\toy3.csv\", encoding=\"utf-8\")"
   ]
  },
  {
   "cell_type": "code",
   "execution_count": 11,
   "metadata": {},
   "outputs": [],
   "source": [
    "#This is my word munging program\n",
    "#that can remove common stop words, numbers, and custom lists of stop words\n",
    "from  TextCleaner2000.TextCleaner import TextCleaner\n"
   ]
  },
  {
   "cell_type": "code",
   "execution_count": 13,
   "metadata": {},
   "outputs": [],
   "source": [
    "#Need to set directory where WordCleaner is installed\n",
    "cleaner = TextCleaner(\"TextCleaner2000\")"
   ]
  },
  {
   "cell_type": "code",
   "execution_count": 14,
   "metadata": {},
   "outputs": [],
   "source": [
    "toy1[\"Tweet\"] = toy1.index\n",
    "toy2[\"Tweet\"] = toy2.index\n",
    "toy3[\"Tweet\"] = toy3.index\n",
    "\n",
    "bell1[\"Tweet\"] = bell1.index\n",
    "bell2[\"Tweet\"] = bell2.index\n",
    "bell3[\"Tweet\"] = bell3.index\n",
    "\n",
    "atkins1[\"Tweet\"] = atkins1.index\n",
    "atkins2[\"Tweet\"] = atkins2.index\n",
    "atkins3[\"Tweet\"] = atkins3.index\n",
    "\n",
    "samsung1[\"Tweet\"] = samsung1.index\n",
    "samsung2[\"Tweet\"] = samsung2.index\n",
    "samsung3[\"Tweet\"] = samsung3.index"
   ]
  },
  {
   "cell_type": "code",
   "execution_count": 15,
   "metadata": {},
   "outputs": [],
   "source": [
    "#For each dataset we apply alpha_iterator to remove non-letters \n",
    "toy1[\"Tweet2\"] = cleaner.alpha_iterator(toy1[\"Tweet\"])\n",
    "toy2[\"Tweet2\"] = cleaner.alpha_iterator(toy2[\"Tweet\"])\n",
    "toy3[\"Tweet2\"] = cleaner.alpha_iterator(toy3[\"Tweet\"])"
   ]
  },
  {
   "cell_type": "code",
   "execution_count": 16,
   "metadata": {},
   "outputs": [
    {
     "data": {
      "text/plain": [
       "'Toyota Matrix info: Toyota : Matrix XR 4DR MAN RARE XR! WE FINANCE & TRADE ONE OWNER ...: US $400... http://bit.ly/9MCXqA bit.ly/recallblog'"
      ]
     },
     "execution_count": 16,
     "metadata": {},
     "output_type": "execute_result"
    }
   ],
   "source": [
    "# we can compare this to \"Tweet2\" just created\n",
    "toy1[\"Tweet\"][1]"
   ]
  },
  {
   "cell_type": "code",
   "execution_count": 17,
   "metadata": {},
   "outputs": [
    {
     "data": {
      "text/plain": [
       "'toyota matrix info toyota  matrix xr dr man rare xr we finance  trade one owner  us  http bit ly mcxqa bit ly recallblog'"
      ]
     },
     "execution_count": 17,
     "metadata": {},
     "output_type": "execute_result"
    }
   ],
   "source": [
    "toy1[\"Tweet2\"][1]"
   ]
  },
  {
   "cell_type": "code",
   "execution_count": 18,
   "metadata": {},
   "outputs": [],
   "source": [
    "bell1[\"Tweet2\"] = cleaner.alpha_iterator(bell1[\"Tweet\"])\n",
    "bell2[\"Tweet2\"] = cleaner.alpha_iterator(bell2[\"Tweet\"])\n",
    "bell3[\"Tweet2\"] = cleaner.alpha_iterator(bell3[\"Tweet\"])"
   ]
  },
  {
   "cell_type": "code",
   "execution_count": 19,
   "metadata": {},
   "outputs": [],
   "source": [
    "atkins1[\"Tweet2\"] = cleaner.alpha_iterator(atkins1[\"Tweet\"])\n",
    "atkins2[\"Tweet2\"] = cleaner.alpha_iterator(atkins2[\"Tweet\"])\n",
    "atkins3[\"Tweet2\"] = cleaner.alpha_iterator(atkins3[\"Tweet\"])"
   ]
  },
  {
   "cell_type": "code",
   "execution_count": 20,
   "metadata": {},
   "outputs": [],
   "source": [
    "samsung1[\"Tweet2\"] = cleaner.alpha_iterator(samsung1[\"Tweet\"])\n",
    "samsung2[\"Tweet2\"] = cleaner.alpha_iterator(samsung2[\"Tweet\"])\n",
    "samsung3[\"Tweet2\"] = cleaner.alpha_iterator(samsung3[\"Tweet\"])"
   ]
  },
  {
   "cell_type": "code",
   "execution_count": 21,
   "metadata": {},
   "outputs": [],
   "source": [
    "toy1[\"Tweet3\"] = cleaner.stop_word_iterator(toy1['Tweet2']) \n",
    "toy2[\"Tweet3\"] = cleaner.stop_word_iterator(toy2['Tweet2']) \n",
    "toy3[\"Tweet3\"] = cleaner.stop_word_iterator(toy3['Tweet2']) "
   ]
  },
  {
   "cell_type": "code",
   "execution_count": 22,
   "metadata": {},
   "outputs": [],
   "source": [
    "bell1[\"Tweet3\"] = cleaner.stop_word_iterator(bell1['Tweet2']) \n",
    "bell2[\"Tweet3\"] = cleaner.stop_word_iterator(bell2['Tweet2']) \n",
    "bell3[\"Tweet3\"] = cleaner.stop_word_iterator(bell3['Tweet2']) "
   ]
  },
  {
   "cell_type": "code",
   "execution_count": 23,
   "metadata": {},
   "outputs": [],
   "source": [
    "atkins1[\"Tweet3\"] = cleaner.stop_word_iterator(atkins1['Tweet2']) \n",
    "atkins2[\"Tweet3\"] = cleaner.stop_word_iterator(atkins2['Tweet2']) \n",
    "atkins3[\"Tweet3\"] = cleaner.stop_word_iterator(atkins3['Tweet2']) "
   ]
  },
  {
   "cell_type": "code",
   "execution_count": 24,
   "metadata": {},
   "outputs": [],
   "source": [
    "samsung1[\"Tweet3\"] = cleaner.stop_word_iterator(samsung1['Tweet2']) \n",
    "samsung2[\"Tweet3\"] = cleaner.stop_word_iterator(samsung2['Tweet2']) \n",
    "samsung3[\"Tweet3\"] = cleaner.stop_word_iterator(samsung3['Tweet2']) "
   ]
  },
  {
   "cell_type": "code",
   "execution_count": 25,
   "metadata": {},
   "outputs": [],
   "source": [
    "samsung1.to_csv(\"clean\\\\samsung1_clean.csv\")\n",
    "samsung2.to_csv(\"clean\\\\samsung2_clean.csv\")\n",
    "samsung3.to_csv(\"clean\\\\samsung3_clean.csv\")\n",
    "\n",
    "toy1.to_csv(\"clean\\\\toy1_clean.csv\")\n",
    "toy2.to_csv(\"clean\\\\toy2_clean.csv\")\n",
    "toy3.to_csv(\"clean\\\\toy3_clean.csv\")\n",
    "\n",
    "atkins1.to_csv(\"clean\\\\atkins1_clean.csv\")\n",
    "atkins2.to_csv(\"clean\\\\atkins2_clean.csv\")\n",
    "atkins3.to_csv(\"clean\\\\atkins3_clean.csv\")\n",
    "\n",
    "bell1.to_csv(\"clean\\\\bell1_clean.csv\")\n",
    "bell2.to_csv(\"clean\\\\bell2_clean.csv\")\n",
    "bell3.to_csv(\"clean\\\\bell3_clean.csv\")"
   ]
  },
  {
   "cell_type": "code",
   "execution_count": null,
   "metadata": {
    "collapsed": true
   },
   "outputs": [],
   "source": []
  }
 ],
 "metadata": {
  "kernelspec": {
   "display_name": "Python 3",
   "language": "python",
   "name": "python3"
  },
  "language_info": {
   "codemirror_mode": {
    "name": "ipython",
    "version": 3
   },
   "file_extension": ".py",
   "mimetype": "text/x-python",
   "name": "python",
   "nbconvert_exporter": "python",
   "pygments_lexer": "ipython3",
   "version": "3.6.4"
  }
 },
 "nbformat": 4,
 "nbformat_minor": 2
}
