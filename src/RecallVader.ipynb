{
 "cells": [
  {
   "cell_type": "code",
   "execution_count": 11,
   "metadata": {},
   "outputs": [],
   "source": [
    "import vaderSentiment.vaderSentiment as vs\n",
    "\n",
    "import pandas as pd\n",
    "from pandas import DataFrame"
   ]
  },
  {
   "cell_type": "code",
   "execution_count": 2,
   "metadata": {},
   "outputs": [
    {
     "name": "stderr",
     "output_type": "stream",
     "text": [
      "C:\\Users\\johnb\\Anaconda3\\lib\\site-packages\\ipykernel_launcher.py:2: FutureWarning: from_csv is deprecated. Please use read_csv(...) instead. Note that some of the default arguments are different, so please refer to the documentation for from_csv when changing your function calls\n",
      "  \n",
      "C:\\Users\\johnb\\Anaconda3\\lib\\site-packages\\ipykernel_launcher.py:3: FutureWarning: from_csv is deprecated. Please use read_csv(...) instead. Note that some of the default arguments are different, so please refer to the documentation for from_csv when changing your function calls\n",
      "  This is separate from the ipykernel package so we can avoid doing imports until\n",
      "C:\\Users\\johnb\\Anaconda3\\lib\\site-packages\\ipykernel_launcher.py:4: FutureWarning: from_csv is deprecated. Please use read_csv(...) instead. Note that some of the default arguments are different, so please refer to the documentation for from_csv when changing your function calls\n",
      "  after removing the cwd from sys.path.\n"
     ]
    }
   ],
   "source": [
    "#Load our cleaned data\n",
    "toy1 = DataFrame.from_csv(\"clean\\\\toy1_clean.csv\")\n",
    "toy2 = DataFrame.from_csv(\"clean\\\\toy2_clean.csv\")\n",
    "toy3 = DataFrame.from_csv(\"clean\\\\toy3_clean.csv\")"
   ]
  },
  {
   "cell_type": "code",
   "execution_count": 3,
   "metadata": {},
   "outputs": [
    {
     "name": "stderr",
     "output_type": "stream",
     "text": [
      "C:\\Users\\johnb\\Anaconda3\\lib\\site-packages\\ipykernel_launcher.py:1: FutureWarning: from_csv is deprecated. Please use read_csv(...) instead. Note that some of the default arguments are different, so please refer to the documentation for from_csv when changing your function calls\n",
      "  \"\"\"Entry point for launching an IPython kernel.\n",
      "C:\\Users\\johnb\\Anaconda3\\lib\\site-packages\\ipykernel_launcher.py:2: FutureWarning: from_csv is deprecated. Please use read_csv(...) instead. Note that some of the default arguments are different, so please refer to the documentation for from_csv when changing your function calls\n",
      "  \n",
      "C:\\Users\\johnb\\Anaconda3\\lib\\site-packages\\ipykernel_launcher.py:3: FutureWarning: from_csv is deprecated. Please use read_csv(...) instead. Note that some of the default arguments are different, so please refer to the documentation for from_csv when changing your function calls\n",
      "  This is separate from the ipykernel package so we can avoid doing imports until\n"
     ]
    }
   ],
   "source": [
    "samsung1 =  DataFrame.from_csv(\"clean\\\\samsung1_clean.csv\")\n",
    "samsung2 =  DataFrame.from_csv(\"clean\\\\samsung2_clean.csv\")\n",
    "samsung3 =  DataFrame.from_csv(\"clean\\\\samsung3_clean.csv\")"
   ]
  },
  {
   "cell_type": "code",
   "execution_count": 4,
   "metadata": {},
   "outputs": [
    {
     "name": "stderr",
     "output_type": "stream",
     "text": [
      "C:\\Users\\johnb\\Anaconda3\\lib\\site-packages\\ipykernel_launcher.py:1: FutureWarning: from_csv is deprecated. Please use read_csv(...) instead. Note that some of the default arguments are different, so please refer to the documentation for from_csv when changing your function calls\n",
      "  \"\"\"Entry point for launching an IPython kernel.\n",
      "C:\\Users\\johnb\\Anaconda3\\lib\\site-packages\\ipykernel_launcher.py:2: FutureWarning: from_csv is deprecated. Please use read_csv(...) instead. Note that some of the default arguments are different, so please refer to the documentation for from_csv when changing your function calls\n",
      "  \n",
      "C:\\Users\\johnb\\Anaconda3\\lib\\site-packages\\ipykernel_launcher.py:3: FutureWarning: from_csv is deprecated. Please use read_csv(...) instead. Note that some of the default arguments are different, so please refer to the documentation for from_csv when changing your function calls\n",
      "  This is separate from the ipykernel package so we can avoid doing imports until\n"
     ]
    }
   ],
   "source": [
    "bell1 = DataFrame.from_csv(\"clean\\\\bell1_clean.csv\")\n",
    "bell2 = DataFrame.from_csv(\"clean\\\\bell2_clean.csv\")\n",
    "bell3 = DataFrame.from_csv(\"clean\\\\bell3_clean.csv\")"
   ]
  },
  {
   "cell_type": "code",
   "execution_count": 5,
   "metadata": {},
   "outputs": [
    {
     "name": "stderr",
     "output_type": "stream",
     "text": [
      "C:\\Users\\johnb\\Anaconda3\\lib\\site-packages\\ipykernel_launcher.py:1: FutureWarning: from_csv is deprecated. Please use read_csv(...) instead. Note that some of the default arguments are different, so please refer to the documentation for from_csv when changing your function calls\n",
      "  \"\"\"Entry point for launching an IPython kernel.\n",
      "C:\\Users\\johnb\\Anaconda3\\lib\\site-packages\\ipykernel_launcher.py:2: FutureWarning: from_csv is deprecated. Please use read_csv(...) instead. Note that some of the default arguments are different, so please refer to the documentation for from_csv when changing your function calls\n",
      "  \n",
      "C:\\Users\\johnb\\Anaconda3\\lib\\site-packages\\ipykernel_launcher.py:3: FutureWarning: from_csv is deprecated. Please use read_csv(...) instead. Note that some of the default arguments are different, so please refer to the documentation for from_csv when changing your function calls\n",
      "  This is separate from the ipykernel package so we can avoid doing imports until\n"
     ]
    }
   ],
   "source": [
    "atkins1 = DataFrame.from_csv(\"clean\\\\atkins1_clean.csv\")\n",
    "atkins2 = DataFrame.from_csv(\"clean\\\\atkins2_clean.csv\")\n",
    "atkins3 = DataFrame.from_csv(\"clean\\\\atkins3_clean.csv\")"
   ]
  },
  {
   "cell_type": "code",
   "execution_count": 12,
   "metadata": {},
   "outputs": [],
   "source": [
    "analyzer = vs.SentimentIntensityAnalyzer()"
   ]
  },
  {
   "cell_type": "code",
   "execution_count": 13,
   "metadata": {},
   "outputs": [],
   "source": [
    "#I u se a function to apply the VADER program, so errors do not \"kill\" the process.\n",
    "def sent_fun(word):\n",
    "    try:\n",
    "        s=analyzer.polarity_scores(word)\n",
    "    except: \n",
    "        s = ''\n",
    "    return s\n"
   ]
  },
  {
   "cell_type": "code",
   "execution_count": 14,
   "metadata": {},
   "outputs": [],
   "source": [
    "#Get the column we need as a list\n",
    "toy1_sent_list = []\n",
    "for x in range(len(toy1)):\n",
    "    toy1_sent_list.append(sent_fun(toy1[\"Tweet3\"][x]))"
   ]
  },
  {
   "cell_type": "code",
   "execution_count": 15,
   "metadata": {},
   "outputs": [],
   "source": [
    "toy2_sent_list = []\n",
    "for x in range(len(toy1)):\n",
    "    toy2_sent_list.append(sent_fun(toy2[\"Tweet3\"][x]))"
   ]
  },
  {
   "cell_type": "code",
   "execution_count": 16,
   "metadata": {},
   "outputs": [],
   "source": [
    "toy3_sent_list = []\n",
    "for x in range(len(toy1)):\n",
    "    toy3_sent_list.append(sent_fun(toy3[\"Tweet3\"][x]))"
   ]
  },
  {
   "cell_type": "code",
   "execution_count": 17,
   "metadata": {},
   "outputs": [],
   "source": [
    "bell1_sent_list = []\n",
    "for x in range(len(toy1)):\n",
    "    bell1_sent_list.append(sent_fun(bell1[\"Tweet3\"][x]))"
   ]
  },
  {
   "cell_type": "code",
   "execution_count": 18,
   "metadata": {},
   "outputs": [],
   "source": [
    "bell2_sent_list = []\n",
    "for x in range(len(toy1)):\n",
    "    bell2_sent_list.append(sent_fun(bell2[\"Tweet3\"][x]))"
   ]
  },
  {
   "cell_type": "code",
   "execution_count": 19,
   "metadata": {},
   "outputs": [],
   "source": [
    "bell3_sent_list = []\n",
    "for x in range(len(toy1)):\n",
    "    bell3_sent_list.append(sent_fun(bell3[\"Tweet3\"][x]))"
   ]
  },
  {
   "cell_type": "code",
   "execution_count": 20,
   "metadata": {},
   "outputs": [],
   "source": [
    "atkins1_sent_list = []\n",
    "for x in range(len(toy1)):\n",
    "    atkins1_sent_list.append(sent_fun(atkins1[\"Tweet3\"][x]))"
   ]
  },
  {
   "cell_type": "code",
   "execution_count": 21,
   "metadata": {},
   "outputs": [],
   "source": [
    "atkins2_sent_list = []\n",
    "for x in range(len(toy1)):\n",
    "    atkins2_sent_list.append(sent_fun(atkins2[\"Tweet3\"][x]))"
   ]
  },
  {
   "cell_type": "code",
   "execution_count": 22,
   "metadata": {},
   "outputs": [],
   "source": [
    "atkins3_sent_list = []\n",
    "for x in range(len(toy1)):\n",
    "    atkins3_sent_list.append(sent_fun(atkins3[\"Tweet3\"][x]))"
   ]
  },
  {
   "cell_type": "code",
   "execution_count": 23,
   "metadata": {},
   "outputs": [],
   "source": [
    "samsung1_sent_list = []\n",
    "for x in range(len(toy1)):\n",
    "    samsung1_sent_list.append(sent_fun(samsung1[\"Tweet3\"][x]))"
   ]
  },
  {
   "cell_type": "code",
   "execution_count": 24,
   "metadata": {},
   "outputs": [],
   "source": [
    "samsung2_sent_list = []\n",
    "for x in range(len(toy1)):\n",
    "    samsung2_sent_list.append(sent_fun(samsung2[\"Tweet3\"][x]))"
   ]
  },
  {
   "cell_type": "code",
   "execution_count": 25,
   "metadata": {},
   "outputs": [],
   "source": [
    "samsung3_sent_list = []\n",
    "for x in range(len(toy1)):\n",
    "    samsung3_sent_list.append(sent_fun(samsung3[\"Tweet3\"][x]))"
   ]
  },
  {
   "cell_type": "code",
   "execution_count": 26,
   "metadata": {},
   "outputs": [],
   "source": [
    "atkins1_sentdf = DataFrame.from_records(atkins1_sent_list)\n",
    "atkins2_sentdf = DataFrame.from_records(atkins2_sent_list)\n",
    "atkins3_sentdf = DataFrame.from_records(atkins3_sent_list)\n",
    "\n",
    "bell1_sentdf = DataFrame.from_records(bell1_sent_list)\n",
    "bell2_sentdf = DataFrame.from_records(bell2_sent_list)\n",
    "bell3_sentdf = DataFrame.from_records(bell3_sent_list)\n",
    "\n"
   ]
  },
  {
   "cell_type": "code",
   "execution_count": 27,
   "metadata": {},
   "outputs": [],
   "source": [
    "#Create a dataframe to hold the scores\n",
    "toy1_sentdf = DataFrame.from_records(toy1_sent_list, columns=['compound','neg','neu','pos'])\n",
    "toy2_sentdf = DataFrame.from_records(toy2_sent_list, columns=['compound','neg','neu','pos'])\n",
    "toy3_sentdf = DataFrame.from_records(toy3_sent_list, columns=['compound','neg','neu','pos'])\n",
    "\n",
    "samsung1_sentdf = DataFrame.from_records(samsung1_sent_list, columns=['compound','neg','neu','pos'])\n",
    "samsung2_sentdf = DataFrame.from_records(samsung2_sent_list, columns=['compound','neg','neu','pos'])\n",
    "samsung3_sentdf = DataFrame.from_records(samsung3_sent_list, columns=['compound','neg','neu','pos'])"
   ]
  },
  {
   "cell_type": "code",
   "execution_count": 28,
   "metadata": {},
   "outputs": [],
   "source": [
    "#Get the scores for positve, negative and netural sentiment for each product\n",
    "#Toyota before\n",
    "toy_pos = toy1_sentdf[\"pos\"].sum()\n",
    "toy_neg = toy1_sentdf[\"neg\"].sum()\n",
    "toy_neu = toy1_sentdf[\"neu\"].sum()\n",
    "toy_com = toy1_sentdf[\"compound\"].sum()"
   ]
  },
  {
   "cell_type": "code",
   "execution_count": 29,
   "metadata": {},
   "outputs": [],
   "source": [
    "#Toyota at\n",
    "toy_posb = toy2_sentdf[\"pos\"].sum()\n",
    "toy_negb = toy2_sentdf[\"neg\"].sum()\n",
    "toy_neub = toy2_sentdf[\"neu\"].sum()\n",
    "toy_comb = toy2_sentdf[\"compound\"].sum()"
   ]
  },
  {
   "cell_type": "code",
   "execution_count": 30,
   "metadata": {},
   "outputs": [],
   "source": [
    "#Toyota after\n",
    "toy_posc = toy3_sentdf[\"pos\"].sum()\n",
    "toy_negc = toy3_sentdf[\"neg\"].sum()\n",
    "toy_neuc = toy3_sentdf[\"neu\"].sum()\n",
    "toy_comc = toy3_sentdf[\"compound\"].sum()"
   ]
  },
  {
   "cell_type": "code",
   "execution_count": 31,
   "metadata": {},
   "outputs": [],
   "source": [
    "## Samsung"
   ]
  },
  {
   "cell_type": "code",
   "execution_count": 32,
   "metadata": {},
   "outputs": [],
   "source": [
    "#Samsung before\n",
    "sam_pos = samsung1_sentdf[\"pos\"].sum()\n",
    "sam_neg = samsung1_sentdf[\"neg\"].sum()\n",
    "sam_neu = samsung1_sentdf[\"neu\"].sum()\n",
    "sam_com = samsung1_sentdf[\"compound\"].sum()"
   ]
  },
  {
   "cell_type": "code",
   "execution_count": 33,
   "metadata": {},
   "outputs": [],
   "source": [
    "#Samsung during\n",
    "sam_posb = samsung2_sentdf[\"pos\"].sum()\n",
    "sam_negb = samsung2_sentdf[\"neg\"].sum()\n",
    "sam_neub = samsung2_sentdf[\"neu\"].sum()\n",
    "sam_comb = samsung2_sentdf[\"compound\"].sum()"
   ]
  },
  {
   "cell_type": "code",
   "execution_count": 34,
   "metadata": {},
   "outputs": [],
   "source": [
    "#Samsung after\n",
    "sam_posc = samsung3_sentdf[\"pos\"].sum()\n",
    "sam_negc = samsung3_sentdf[\"neg\"].sum()\n",
    "sam_neuc = samsung3_sentdf[\"neu\"].sum()\n",
    "sam_comc = samsung3_sentdf[\"compound\"].sum()"
   ]
  },
  {
   "cell_type": "code",
   "execution_count": 35,
   "metadata": {},
   "outputs": [],
   "source": [
    "#Atkins before\n",
    "at_pos = atkins1_sentdf[\"pos\"].sum()\n",
    "at_neg = atkins1_sentdf[\"neg\"].sum()\n",
    "at_neu = atkins1_sentdf[\"neu\"].sum()\n",
    "at_com = atkins1_sentdf[\"compound\"].sum()"
   ]
  },
  {
   "cell_type": "code",
   "execution_count": 36,
   "metadata": {},
   "outputs": [],
   "source": [
    "#Atkins during\n",
    "at_posb = atkins2_sentdf[\"pos\"].sum()\n",
    "at_negb = atkins2_sentdf[\"neg\"].sum()\n",
    "at_neub = atkins2_sentdf[\"neu\"].sum()\n",
    "at_comb = atkins2_sentdf[\"compound\"].sum()"
   ]
  },
  {
   "cell_type": "code",
   "execution_count": 37,
   "metadata": {},
   "outputs": [],
   "source": [
    "#Atkins after\n",
    "at_posc = atkins3_sentdf[\"pos\"].sum()\n",
    "at_negc = atkins3_sentdf[\"neg\"].sum()\n",
    "at_neuc = atkins3_sentdf[\"neu\"].sum()\n",
    "at_comc = atkins3_sentdf[\"compound\"].sum()"
   ]
  },
  {
   "cell_type": "code",
   "execution_count": 38,
   "metadata": {},
   "outputs": [],
   "source": [
    "#Bell before\n",
    "bell_pos = bell1_sentdf[\"pos\"].sum()\n",
    "bell_neg = bell1_sentdf[\"neg\"].sum()\n",
    "bell_neu = bell1_sentdf[\"neu\"].sum()\n",
    "bell_com = bell1_sentdf[\"compound\"].sum()"
   ]
  },
  {
   "cell_type": "code",
   "execution_count": 39,
   "metadata": {},
   "outputs": [],
   "source": [
    "#Bell during\n",
    "bell_posb = bell2_sentdf[\"pos\"].sum()\n",
    "bell_negb = bell2_sentdf[\"neg\"].sum()\n",
    "bell_neub = bell2_sentdf[\"neu\"].sum()\n",
    "bell_comb = bell2_sentdf[\"compound\"].sum()"
   ]
  },
  {
   "cell_type": "code",
   "execution_count": 40,
   "metadata": {},
   "outputs": [],
   "source": [
    "#Bell after\n",
    "bell_posc = bell3_sentdf[\"pos\"].sum()\n",
    "bell_negc = bell3_sentdf[\"neg\"].sum()\n",
    "bell_neuc = bell3_sentdf[\"neu\"].sum()\n",
    "bell_comc = bell3_sentdf[\"compound\"].sum()"
   ]
  },
  {
   "cell_type": "code",
   "execution_count": 54,
   "metadata": {},
   "outputs": [],
   "source": [
    "#Atkins\n",
    "a1=[\"Company\" ,\"Sentiment\",\"Before\",\"During\",\"After\"]\n",
    "a2=[\"Atkins\",\"Compound\",at_com,at_comb,at_comc]\n",
    "a3=[\"Atkins\",\"Positive\",at_pos,at_posb,at_posc]\n",
    "a4=[\"Atkins\",\"Negative\",at_neg,at_negb,at_negc]\n",
    "a5=[\"Atkins\",\"Neutral\",at_neu,at_neub,at_neuc]\n"
   ]
  },
  {
   "cell_type": "code",
   "execution_count": 55,
   "metadata": {},
   "outputs": [],
   "source": [
    "#Bell\n",
    "#b1=[\"Sentiment\",\"Before\",\"During\",\"After\"]\n",
    "b2=[\"Blue Bell\",\"Compound\",bell_com,bell_comb,bell_comc]\n",
    "b3=[\"Blue Bell\",\"Positive\",bell_pos,bell_posb,bell_posc]\n",
    "b4=[\"Blue Bell\",\"Negative\",bell_neg,bell_negb,bell_negc]\n",
    "b5=[\"Blue Bell\",\"Neutral\",bell_neu,bell_neub,bell_neuc]"
   ]
  },
  {
   "cell_type": "code",
   "execution_count": 56,
   "metadata": {},
   "outputs": [],
   "source": [
    "#Samsung\n",
    "#s1=[\"Sentiment\",\"Before\",\"During\",\"After\"]\n",
    "s2=[\"Samsung\",\"Compound\", sam_com,sam_comb,sam_comc]\n",
    "s3=[\"Samsung\",\"Positive\",sam_pos,sam_posb,sam_posc]\n",
    "s4=[\"Samsung\",\"Negative\",sam_neg,sam_negb,sam_negc]\n",
    "s5=[\"Samsung\",\"Neutral\",sam_neu,sam_neub,sam_neuc]"
   ]
  },
  {
   "cell_type": "code",
   "execution_count": 57,
   "metadata": {},
   "outputs": [],
   "source": [
    "#Toyota\n",
    "#t1=[ \"Sentiment\",\"Before\",\"During\",\"After\"]\n",
    "t2=[\"Toyota\",\"Compound\",toy_com,toy_comb,toy_comc]\n",
    "t3=[\"Toyota\",\"Positive\",toy_pos,toy_posb,toy_posc]\n",
    "t4=[\"Toyota\",\"Negative\",toy_neg,toy_negb,toy_negc]\n",
    "t5=[\"Toyota\",\"Neutral\",toy_neu,toy_neub,toy_neuc]"
   ]
  },
  {
   "cell_type": "code",
   "execution_count": 58,
   "metadata": {},
   "outputs": [],
   "source": [
    "final = pd.DataFrame.from_records([a1,a2,a3,a4,b2,b3,b4,s2,s3,s4,t2,t3,t4])"
   ]
  },
  {
   "cell_type": "code",
   "execution_count": 59,
   "metadata": {},
   "outputs": [
    {
     "data": {
      "text/html": [
       "<div>\n",
       "<style scoped>\n",
       "    .dataframe tbody tr th:only-of-type {\n",
       "        vertical-align: middle;\n",
       "    }\n",
       "\n",
       "    .dataframe tbody tr th {\n",
       "        vertical-align: top;\n",
       "    }\n",
       "\n",
       "    .dataframe thead th {\n",
       "        text-align: right;\n",
       "    }\n",
       "</style>\n",
       "<table border=\"1\" class=\"dataframe\">\n",
       "  <thead>\n",
       "    <tr style=\"text-align: right;\">\n",
       "      <th></th>\n",
       "      <th>0</th>\n",
       "      <th>1</th>\n",
       "      <th>2</th>\n",
       "      <th>3</th>\n",
       "      <th>4</th>\n",
       "    </tr>\n",
       "  </thead>\n",
       "  <tbody>\n",
       "    <tr>\n",
       "      <th>0</th>\n",
       "      <td>Company</td>\n",
       "      <td>Sentiment</td>\n",
       "      <td>Before</td>\n",
       "      <td>During</td>\n",
       "      <td>After</td>\n",
       "    </tr>\n",
       "    <tr>\n",
       "      <th>1</th>\n",
       "      <td>Atkins</td>\n",
       "      <td>Compound</td>\n",
       "      <td>130.989</td>\n",
       "      <td>182.579</td>\n",
       "      <td>180.188</td>\n",
       "    </tr>\n",
       "    <tr>\n",
       "      <th>2</th>\n",
       "      <td>Atkins</td>\n",
       "      <td>Positive</td>\n",
       "      <td>170.89</td>\n",
       "      <td>180.225</td>\n",
       "      <td>172.979</td>\n",
       "    </tr>\n",
       "    <tr>\n",
       "      <th>3</th>\n",
       "      <td>Atkins</td>\n",
       "      <td>Negative</td>\n",
       "      <td>108.253</td>\n",
       "      <td>101.562</td>\n",
       "      <td>93.567</td>\n",
       "    </tr>\n",
       "    <tr>\n",
       "      <th>4</th>\n",
       "      <td>Blue Bell</td>\n",
       "      <td>Compound</td>\n",
       "      <td>306.97</td>\n",
       "      <td>91.0703</td>\n",
       "      <td>204.637</td>\n",
       "    </tr>\n",
       "    <tr>\n",
       "      <th>5</th>\n",
       "      <td>Blue Bell</td>\n",
       "      <td>Positive</td>\n",
       "      <td>227.126</td>\n",
       "      <td>164.427</td>\n",
       "      <td>204.349</td>\n",
       "    </tr>\n",
       "    <tr>\n",
       "      <th>6</th>\n",
       "      <td>Blue Bell</td>\n",
       "      <td>Negative</td>\n",
       "      <td>57.046</td>\n",
       "      <td>119.21</td>\n",
       "      <td>80.914</td>\n",
       "    </tr>\n",
       "    <tr>\n",
       "      <th>7</th>\n",
       "      <td>Samsung</td>\n",
       "      <td>Compound</td>\n",
       "      <td>284.894</td>\n",
       "      <td>215.218</td>\n",
       "      <td>261.742</td>\n",
       "    </tr>\n",
       "    <tr>\n",
       "      <th>8</th>\n",
       "      <td>Samsung</td>\n",
       "      <td>Positive</td>\n",
       "      <td>136.302</td>\n",
       "      <td>132.821</td>\n",
       "      <td>137.871</td>\n",
       "    </tr>\n",
       "    <tr>\n",
       "      <th>9</th>\n",
       "      <td>Samsung</td>\n",
       "      <td>Negative</td>\n",
       "      <td>20.316</td>\n",
       "      <td>37.493</td>\n",
       "      <td>24.825</td>\n",
       "    </tr>\n",
       "    <tr>\n",
       "      <th>10</th>\n",
       "      <td>Toyota</td>\n",
       "      <td>Compound</td>\n",
       "      <td>595.127</td>\n",
       "      <td>452.936</td>\n",
       "      <td>606.509</td>\n",
       "    </tr>\n",
       "    <tr>\n",
       "      <th>11</th>\n",
       "      <td>Toyota</td>\n",
       "      <td>Positive</td>\n",
       "      <td>307.019</td>\n",
       "      <td>278.747</td>\n",
       "      <td>301.425</td>\n",
       "    </tr>\n",
       "    <tr>\n",
       "      <th>12</th>\n",
       "      <td>Toyota</td>\n",
       "      <td>Negative</td>\n",
       "      <td>45.387</td>\n",
       "      <td>92.061</td>\n",
       "      <td>40.363</td>\n",
       "    </tr>\n",
       "  </tbody>\n",
       "</table>\n",
       "</div>"
      ],
      "text/plain": [
       "            0          1        2        3        4\n",
       "0     Company  Sentiment   Before   During    After\n",
       "1      Atkins   Compound  130.989  182.579  180.188\n",
       "2      Atkins   Positive   170.89  180.225  172.979\n",
       "3      Atkins   Negative  108.253  101.562   93.567\n",
       "4   Blue Bell   Compound   306.97  91.0703  204.637\n",
       "5   Blue Bell   Positive  227.126  164.427  204.349\n",
       "6   Blue Bell   Negative   57.046   119.21   80.914\n",
       "7     Samsung   Compound  284.894  215.218  261.742\n",
       "8     Samsung   Positive  136.302  132.821  137.871\n",
       "9     Samsung   Negative   20.316   37.493   24.825\n",
       "10     Toyota   Compound  595.127  452.936  606.509\n",
       "11     Toyota   Positive  307.019  278.747  301.425\n",
       "12     Toyota   Negative   45.387   92.061   40.363"
      ]
     },
     "execution_count": 59,
     "metadata": {},
     "output_type": "execute_result"
    }
   ],
   "source": [
    "final"
   ]
  },
  {
   "cell_type": "code",
   "execution_count": 69,
   "metadata": {},
   "outputs": [],
   "source": [
    "final.to_csv(\"csv_files\\\\recalls_out.csv\")"
   ]
  },
  {
   "cell_type": "code",
   "execution_count": null,
   "metadata": {},
   "outputs": [],
   "source": []
  }
 ],
 "metadata": {
  "kernelspec": {
   "display_name": "Python 3",
   "language": "python",
   "name": "python3"
  },
  "language_info": {
   "codemirror_mode": {
    "name": "ipython",
    "version": 3
   },
   "file_extension": ".py",
   "mimetype": "text/x-python",
   "name": "python",
   "nbconvert_exporter": "python",
   "pygments_lexer": "ipython3",
   "version": "3.6.4"
  }
 },
 "nbformat": 4,
 "nbformat_minor": 1
}
